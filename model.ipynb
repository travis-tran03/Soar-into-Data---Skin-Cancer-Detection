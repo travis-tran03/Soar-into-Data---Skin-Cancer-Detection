{
 "cells": [
  {
   "cell_type": "code",
   "execution_count": 172,
   "id": "a3b6be72",
   "metadata": {},
   "outputs": [],
   "source": [
    "from sklearn.model_selection import train_test_split\n",
    "import pandas as pd\n",
    "from tensorflow.keras.models import Model\n",
    "from tensorflow.keras.layers import Input, Conv2D, MaxPooling2D, UpSampling2D\n",
    "from tensorflow.keras import layers, models\n",
    "from tensorflow.keras.applications import ResNet50\n",
    "import tensorflow as tf\n",
    "import numpy as np\n",
    "from tensorflow.keras.callbacks import EarlyStopping\n",
    "import pandas as pd"
   ]
  },
  {
   "cell_type": "markdown",
   "id": "16912a19",
   "metadata": {},
   "source": [
    "### Get Data ###"
   ]
  },
  {
   "cell_type": "code",
   "execution_count": 173,
   "id": "9aac1634",
   "metadata": {},
   "outputs": [],
   "source": [
    "df_image = pd.read_csv('label_and_path.csv')\n",
    "X_image = df_image[:770]['image_path'].values\n",
    "\n",
    "df_meta = pd.read_csv('skin_data.csv')\n",
    "X_meta = df_meta[:770].drop(columns=['target']).values\n",
    "\n",
    "y = df_image[:770]['target'].values"
   ]
  },
  {
   "cell_type": "markdown",
   "id": "fd048dbb",
   "metadata": {},
   "source": [
    "### Split Data ###"
   ]
  },
  {
   "cell_type": "code",
   "execution_count": 174,
   "id": "975f681a",
   "metadata": {},
   "outputs": [],
   "source": [
    "# Split for images\n",
    "X_train_image, X_val_test_image, y_train_image, y_val_test_image = train_test_split(X_image, y, test_size=0.3, stratify=y)\n",
    "X_val_image, X_test_image, y_val_image, y_test_image = train_test_split(X_val_test_image, y_val_test_image, test_size=0.5, stratify=y_val_test_image)\n",
    "\n",
    "# Split for metadata\n",
    "X_train_meta, X_val_test_meta, y_train_meta, y_val_test_meta = train_test_split(X_meta, y, test_size=0.3, stratify=y)\n",
    "X_val_meta, X_test_meta, y_val_meta, y_test_meta = train_test_split(X_val_test_meta, y_val_test_meta, test_size=0.5, stratify=y_val_test_meta)"
   ]
  },
  {
   "cell_type": "code",
   "execution_count": 175,
   "id": "db05a085",
   "metadata": {},
   "outputs": [
    {
     "name": "stdout",
     "output_type": "stream",
     "text": [
      "Number of labels that are 1 in y_train_image: 267\n",
      "Number of labels that are 1 in y_val_image: 57\n",
      "Number of labels that are 1 in y_test_image: 57\n",
      "Number of labels that are 1 in y_train_meta: 267\n",
      "Number of labels that are 1 in y_val_meta: 57\n",
      "Number of labels that are 1 in y_test_meta: 57\n"
     ]
    }
   ],
   "source": [
    "count_y_train_image = np.sum(y_train_image == 1)\n",
    "count_y_val_image = np.sum(y_val_image == 1)\n",
    "count_y_test_image = np.sum(y_test_image == 1)\n",
    "\n",
    "count_y_train_meta = np.sum(y_train_meta == 1)\n",
    "count_y_val_meta = np.sum(y_val_meta == 1)\n",
    "count_y_test_meta = np.sum(y_test_meta == 1)\n",
    "\n",
    "print(f\"Number of labels that are 1 in y_train_image: {count_y_train_image}\")\n",
    "print(f\"Number of labels that are 1 in y_val_image: {count_y_val_image}\")\n",
    "print(f\"Number of labels that are 1 in y_test_image: {count_y_test_image}\")\n",
    "\n",
    "print(f\"Number of labels that are 1 in y_train_meta: {count_y_train_meta}\")\n",
    "print(f\"Number of labels that are 1 in y_val_meta: {count_y_val_meta}\")\n",
    "print(f\"Number of labels that are 1 in y_test_meta: {count_y_test_meta}\")"
   ]
  },
  {
   "cell_type": "code",
   "execution_count": 176,
   "id": "0fbc30e9",
   "metadata": {},
   "outputs": [],
   "source": [
    "def preprocess_combined(image_path, metadata, label):\n",
    "    image = tf.io.read_file(image_path)\n",
    "    image = tf.image.decode_jpeg(image, channels=3)\n",
    "    image = tf.image.resize(image, (128, 128))\n",
    "    image = tf.cast(image, tf.float32) / 255.0\n",
    "    return (image, metadata), label\n",
    "\n",
    "def create_combined_dataset(image_paths, metadata, labels, batch_size=32, shuffle=True):\n",
    "    image_paths = tf.constant(image_paths)\n",
    "    metadata = tf.convert_to_tensor(metadata, dtype=tf.float32)\n",
    "    labels = tf.convert_to_tensor(labels, dtype=tf.float32)\n",
    "\n",
    "    ds = tf.data.Dataset.from_tensor_slices((image_paths, metadata, labels))\n",
    "    ds = ds.map(preprocess_combined, num_parallel_calls=tf.data.AUTOTUNE)\n",
    "\n",
    "    if shuffle:\n",
    "        ds = ds.shuffle(buffer_size=1000)\n",
    "\n",
    "    ds = ds.batch(batch_size).prefetch(tf.data.AUTOTUNE)\n",
    "    return ds\n"
   ]
  },
  {
   "cell_type": "code",
   "execution_count": 177,
   "id": "fc020661",
   "metadata": {},
   "outputs": [],
   "source": [
    "train_ds = create_combined_dataset(X_train_image, X_train_meta, y_train_image, batch_size=256)\n",
    "val_ds = create_combined_dataset(X_val_image, X_val_meta, y_val_image, batch_size=256, shuffle=False)\n",
    "test_ds = create_combined_dataset(X_test_image, X_test_meta, y_test_image, batch_size=256, shuffle=False)"
   ]
  },
  {
   "cell_type": "markdown",
   "id": "f7d2e796",
   "metadata": {},
   "source": [
    "### CNN + MLP ###"
   ]
  },
  {
   "cell_type": "code",
   "execution_count": 178,
   "id": "f37d8209",
   "metadata": {},
   "outputs": [],
   "source": [
    "\n",
    "# CNN Model\n",
    "def CNN_model(input_shape=(128, 128, 3)):\n",
    "    base_model = ResNet50(weights='imagenet', include_top=False, input_shape=input_shape)\n",
    "    base_model.trainable = True  # Allow fine-tuning of the base model\n",
    "    \n",
    "    x = MaxPooling2D()(base_model.output)\n",
    "    x = layers.Dense(128, activation='relu')(x)\n",
    "    x = layers.Dropout(0.3)(x)\n",
    "    \n",
    "    return Model(inputs=base_model.input, outputs=x, name='cnn_model')\n",
    "\n",
    "\n",
    "# MLP Model\n",
    "def MLP_model(input_dim):\n",
    "    inputs = layers.Input(shape=(input_dim,))\n",
    "    x = layers.Dense(64, activation='relu')(inputs)\n",
    "    x = layers.Dropout(0.3)(x)\n",
    "    x = layers.Dense(df_meta.shape[1], activation='relu')(x)\n",
    "    \n",
    "    return models.Model(inputs=inputs, outputs=x, name='metadata_model')\n",
    "\n",
    "\n",
    "# Combined Model\n",
    "def build_combined_model(image_shape, metadata_dim):\n",
    "    cnn_model = CNN_model(image_shape)\n",
    "    mlp_model = MLP_model(metadata_dim)\n",
    "\n",
    "    # Flatten the CNN output to make it 2D\n",
    "    cnn_flattened = layers.Flatten()(cnn_model.output)\n",
    "\n",
    "    # Fusion\n",
    "    combined = layers.concatenate([cnn_flattened, mlp_model.output])\n",
    "    x = layers.Dense(64, activation='relu')(combined)\n",
    "    x = layers.Dropout(0.3)(x)\n",
    "    output = layers.Dense(1, activation='sigmoid')(x)  # Connect the output layer to `x`\n",
    "\n",
    "    model = models.Model(inputs=[cnn_model.input, mlp_model.input], outputs=output)\n",
    "    return model"
   ]
  },
  {
   "cell_type": "code",
   "execution_count": 179,
   "id": "6e281a98",
   "metadata": {},
   "outputs": [
    {
     "name": "stdout",
     "output_type": "stream",
     "text": [
      "Epoch 1/50\n",
      "\u001b[1m3/3\u001b[0m \u001b[32m━━━━━━━━━━━━━━━━━━━━\u001b[0m\u001b[37m\u001b[0m \u001b[1m117s\u001b[0m 15s/step - accuracy: 0.4841 - loss: 12.4879 - val_accuracy: 0.4957 - val_loss: 44.7415\n",
      "Epoch 2/50\n",
      "\u001b[1m3/3\u001b[0m \u001b[32m━━━━━━━━━━━━━━━━━━━━\u001b[0m\u001b[37m\u001b[0m \u001b[1m43s\u001b[0m 12s/step - accuracy: 0.6064 - loss: 7.7157 - val_accuracy: 0.4957 - val_loss: 17.1843\n",
      "Epoch 3/50\n",
      "\u001b[1m3/3\u001b[0m \u001b[32m━━━━━━━━━━━━━━━━━━━━\u001b[0m\u001b[37m\u001b[0m \u001b[1m43s\u001b[0m 11s/step - accuracy: 0.7429 - loss: 6.3127 - val_accuracy: 0.4957 - val_loss: 35.3970\n",
      "Epoch 4/50\n",
      "\u001b[1m3/3\u001b[0m \u001b[32m━━━━━━━━━━━━━━━━━━━━\u001b[0m\u001b[37m\u001b[0m \u001b[1m47s\u001b[0m 12s/step - accuracy: 0.7308 - loss: 3.8255 - val_accuracy: 0.4957 - val_loss: 29.4501\n",
      "Epoch 5/50\n",
      "\u001b[1m3/3\u001b[0m \u001b[32m━━━━━━━━━━━━━━━━━━━━\u001b[0m\u001b[37m\u001b[0m \u001b[1m40s\u001b[0m 11s/step - accuracy: 0.7515 - loss: 3.4253 - val_accuracy: 0.4957 - val_loss: 77.6686\n",
      "Epoch 6/50\n",
      "\u001b[1m3/3\u001b[0m \u001b[32m━━━━━━━━━━━━━━━━━━━━\u001b[0m\u001b[37m\u001b[0m \u001b[1m46s\u001b[0m 11s/step - accuracy: 0.7649 - loss: 2.4555 - val_accuracy: 0.4957 - val_loss: 96.1558\n",
      "Epoch 7/50\n",
      "\u001b[1m3/3\u001b[0m \u001b[32m━━━━━━━━━━━━━━━━━━━━\u001b[0m\u001b[37m\u001b[0m \u001b[1m41s\u001b[0m 11s/step - accuracy: 0.8056 - loss: 1.7173 - val_accuracy: 0.4957 - val_loss: 241.7265\n"
     ]
    },
    {
     "data": {
      "text/plain": [
       "<keras.src.callbacks.history.History at 0x2819d499c90>"
      ]
     },
     "execution_count": 179,
     "metadata": {},
     "output_type": "execute_result"
    }
   ],
   "source": [
    "model = build_combined_model(image_shape=(128, 128, 3), metadata_dim=X_train_meta.shape[1])\n",
    "\n",
    "model.compile(\n",
    "    optimizer='adam',\n",
    "    loss='binary_crossentropy',\n",
    "    metrics=['accuracy']\n",
    ")\n",
    "\n",
    "# Early stopping\n",
    "early_stopping_callback = EarlyStopping(monitor='val_loss', patience=5, restore_best_weights=True)\n",
    "\n",
    "model.fit(\n",
    "    train_ds,\n",
    "    validation_data=val_ds,\n",
    "    epochs=50,\n",
    "    callbacks=[early_stopping_callback]\n",
    ")"
   ]
  },
  {
   "cell_type": "code",
   "execution_count": 180,
   "id": "e6bbfc5a",
   "metadata": {},
   "outputs": [],
   "source": [
    "# model.save('combined_model2.h5')"
   ]
  },
  {
   "cell_type": "code",
   "execution_count": null,
   "id": "f52f84aa",
   "metadata": {},
   "outputs": [],
   "source": []
  },
  {
   "cell_type": "code",
   "execution_count": 181,
   "id": "f621af47",
   "metadata": {},
   "outputs": [
    {
     "name": "stdout",
     "output_type": "stream",
     "text": [
      "\u001b[1m1/1\u001b[0m \u001b[32m━━━━━━━━━━━━━━━━━━━━\u001b[0m\u001b[37m\u001b[0m \u001b[1m19s\u001b[0m 19s/step\n"
     ]
    }
   ],
   "source": [
    "test_probs = model.predict(test_ds)"
   ]
  },
  {
   "cell_type": "code",
   "execution_count": 182,
   "id": "bedfd9a5",
   "metadata": {},
   "outputs": [],
   "source": [
    "test_probs = np.array(test_probs).flatten()"
   ]
  },
  {
   "cell_type": "code",
   "execution_count": 183,
   "id": "1e989015",
   "metadata": {},
   "outputs": [
    {
     "name": "stdout",
     "output_type": "stream",
     "text": [
      "[1.        1.        1.        1.        1.        1.        1.\n",
      " 1.        1.        1.        1.        1.        1.        1.\n",
      " 1.        1.        1.        1.        1.        1.        1.\n",
      " 1.        1.        1.        1.        1.        1.        1.\n",
      " 0.9999939 1.        1.        1.        1.        1.        1.\n",
      " 1.        1.        1.        1.        1.        1.        1.\n",
      " 1.        1.        1.        1.        1.        1.        1.\n",
      " 1.        1.        1.        1.        1.        1.        1.\n",
      " 1.        1.        1.        1.        1.        1.        1.\n",
      " 1.        1.        1.        1.        1.        1.        1.\n",
      " 1.        1.        1.        1.        1.        1.        1.\n",
      " 1.        1.        1.        1.        1.        1.        1.\n",
      " 1.        1.        1.        1.        1.        1.        1.\n",
      " 1.        1.        1.        1.        1.        1.        1.\n",
      " 1.        1.        1.        1.        1.        1.        1.\n",
      " 1.        1.        1.        1.        1.        1.        1.\n",
      " 1.        1.        1.        1.       ]\n"
     ]
    }
   ],
   "source": [
    "print(test_probs[test_probs > 0.5])"
   ]
  },
  {
   "cell_type": "code",
   "execution_count": 184,
   "id": "6a0f8f74",
   "metadata": {},
   "outputs": [
    {
     "name": "stdout",
     "output_type": "stream",
     "text": [
      "\u001b[1m1/1\u001b[0m \u001b[32m━━━━━━━━━━━━━━━━━━━━\u001b[0m\u001b[37m\u001b[0m \u001b[1m2s\u001b[0m 2s/step - accuracy: 0.4914 - loss: 17.8571\n",
      "Test Loss: 17.857051849365234\n",
      "Test Accuracy: 0.4913793206214905\n"
     ]
    }
   ],
   "source": [
    "# Evaluate the model on the test dataset\n",
    "test_loss, test_accuracy = model.evaluate(test_ds)\n",
    "\n",
    "print(f\"Test Loss: {test_loss}\")\n",
    "print(f\"Test Accuracy: {test_accuracy}\")"
   ]
  },
  {
   "cell_type": "code",
   "execution_count": 185,
   "id": "41a0171b",
   "metadata": {},
   "outputs": [
    {
     "data": {
      "text/plain": [
       "<sklearn.metrics._plot.confusion_matrix.ConfusionMatrixDisplay at 0x2819c866ef0>"
      ]
     },
     "execution_count": 185,
     "metadata": {},
     "output_type": "execute_result"
    },
    {
     "data": {
      "image/png": "[encoded data removed]",
      "text/plain": [
       "<Figure size 640x480 with 2 Axes>"
      ]
     },
     "metadata": {},
     "output_type": "display_data"
    }
   ],
   "source": [
    "from sklearn.metrics import confusion_matrix, ConfusionMatrixDisplay\n",
    "\n",
    "# Assuming test_probs contains the predicted probabilities, we convert them to binary predictions\n",
    "y_pred = (test_probs > 0.5).astype(int)\n",
    "\n",
    "# Generate the confusion matrix\n",
    "cm = confusion_matrix(y_test_image, y_pred)\n",
    "\n",
    "# Display the confusion matrix\n",
    "disp = ConfusionMatrixDisplay(confusion_matrix=cm, display_labels=[0, 1])\n",
    "disp.plot(cmap='Blues')"
   ]
  },
  {
   "cell_type": "code",
   "execution_count": 188,
   "id": "8a98d42f",
   "metadata": {},
   "outputs": [
    {
     "name": "stdout",
     "output_type": "stream",
     "text": [
      "Train set - Labels with 1: 267, Labels with 0: 272\n",
      "Validation set - Labels with 1: 57, Labels with 0: 58\n",
      "Test set - Labels with 1: 57, Labels with 0: 59\n"
     ]
    }
   ],
   "source": [
    "# Count labels with 1 and 2 in each set\n",
    "count_y_train_image_1 = np.sum(y_train_image == 1)\n",
    "count_y_train_image_2 = np.sum(y_train_image == 0)\n",
    "\n",
    "count_y_val_image_1 = np.sum(y_val_image == 1)\n",
    "count_y_val_image_2 = np.sum(y_val_image == 0)\n",
    "\n",
    "count_y_test_image_1 = np.sum(y_test_image == 1)\n",
    "count_y_test_image_2 = np.sum(y_test_image == 0)\n",
    "\n",
    "print(f\"Train set - Labels with 1: {count_y_train_image_1}, Labels with 0: {count_y_train_image_2}\")\n",
    "print(f\"Validation set - Labels with 1: {count_y_val_image_1}, Labels with 0: {count_y_val_image_2}\")\n",
    "print(f\"Test set - Labels with 1: {count_y_test_image_1}, Labels with 0: {count_y_test_image_2}\")"
   ]
  },
  {
   "cell_type": "markdown",
   "id": "d0fe85d6",
   "metadata": {},
   "source": [
    "### Auto Encoder ###"
   ]
  },
  {
   "cell_type": "markdown",
   "id": "2b85fa46",
   "metadata": {},
   "source": [
    "# Define the convolutional autoencoder architecture\n",
    "input_shape = X_train.shape[1:]\n",
    "\n",
    "# Input layer\n",
    "input_layer = Input(shape=input_shape)\n",
    "\n",
    "# Encoding layers\n",
    "x = Conv2D(32, (3, 3), activation='relu', padding='same')(input_layer)\n",
    "x = MaxPooling2D((2, 2), padding='same')(x)\n",
    "x = Conv2D(16, (3, 3), activation='relu', padding='same')(x)\n",
    "encoded = MaxPooling2D((2, 2), padding='same')(x)\n",
    "\n",
    "# Decoding layers\n",
    "x = Conv2D(16, (3, 3), activation='relu', padding='same')(encoded)\n",
    "x = UpSampling2D((2, 2))(x)\n",
    "x = Conv2D(32, (3, 3), activation='relu', padding='same')(x)\n",
    "x = UpSampling2D((2, 2))(x)\n",
    "decoded = Conv2D(input_shape[2], (3, 3), activation='sigmoid', padding='same')(x)\n",
    "\n",
    "# Autoencoder model\n",
    "autoencoder = Model(input_layer, decoded)\n",
    "\n",
    "# Encoder model\n",
    "encoder = Model(input_layer, encoded)\n",
    "\n",
    "# Compile the autoencoder\n",
    "autoencoder.compile(optimizer='adam', loss='mse')\n",
    "\n",
    "# Early stopping\n",
    "early_stopping_callback = EarlyStopping(monitor='val_loss', patience=3, restore_best_weights=True)\n",
    "\n",
    "# Train the autoencoder\n",
    "autoencoder.fit(X_train, X_train, epochs=1, batch_size=256, shuffle=True, validation_data=(X_val, X_val), callback=[early_stopping_callback])\n",
    "\n",
    "# Encode the validation data\n",
    "encoded_val = encoder.predict(X_val)\n",
    "\n",
    "# Detect anomalies using reconstruction loss\n",
    "reconstructed_val = autoencoder.predict(X_val)\n",
    "reconstruction_error = np.mean((X_val - reconstructed_val) ** 2, axis=(1, 2, 3))\n",
    "\n",
    "# Set a threshold for anomaly detection\n",
    "threshold = reconstruction_error.mean() + 2 * reconstruction_error.std()\n",
    "\n",
    "# Identify anomalies\n",
    "anomalies = reconstruction_error > threshold\n",
    "print(\"Number of anomalies detected:\", anomalies.sum())"
   ]
  },
  {
   "cell_type": "markdown",
   "id": "33d61fe7",
   "metadata": {},
   "source": []
  }
 ],
 "metadata": {
  "kernelspec": {
   "display_name": "cs178",
   "language": "python",
   "name": "python3"
  },
  "language_info": {
   "codemirror_mode": {
    "name": "ipython",
    "version": 3
   },
   "file_extension": ".py",
   "mimetype": "text/x-python",
   "name": "python",
   "nbconvert_exporter": "python",
   "pygments_lexer": "ipython3",
   "version": "3.10.14"
  }
 },
 "nbformat": 4,
 "nbformat_minor": 5
}
